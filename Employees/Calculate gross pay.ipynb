{
 "cells": [
  {
   "cell_type": "code",
   "execution_count": 30,
   "metadata": {},
   "outputs": [
    {
     "name": "stdout",
     "output_type": "stream",
     "text": [
      "Enter the hours worked by employee 1: Enter the hours worked by employee 2: Enter the hours worked by employee 3: Gross pay for employee 1: $300.00\n",
      "Gross pay for employee 2: $200.00\n",
      "Gross pay for employee 3: $100.00\n"
     ]
    }
   ],
   "source": [
    "# Name: dog-tor\n",
    "# Date: Feb. 2, 2021\n",
    "# This program will calculate the gross pay for employees. Any hours worked over 30 are paid at time and a half (1.5 times the regular hourly rate).\n",
    "# \n",
    "\n",
    "def main():\n",
    "\n",
    "    num_employees = int(input('Enter the number of employees: '))\n",
    "    # Create a list to hold employee hours.\n",
    "    hours = [0] * num_employees\n",
    "\n",
    "    # Get each employee's hours worked.\n",
    "    for i in range(num_employees):\n",
    "        print('Enter the hours worked by employee ', \\\n",
    "              i + 1, ': ', sep='', end='')\n",
    "        hours[i] = float(input())\n",
    "\n",
    "    # Get the hourly pay rate.\n",
    "    pay_rate = float(input('Enter the hourly pay rate: '))\n",
    "\n",
    "    # Display each employee's gross pay.\n",
    "    for i in range(num_employees):\n",
    "        \n",
    "        if (hours[i] > 30):\n",
    "            gross_pay = hours[i] * pay_rate + (hours[i] - 30) * .5 * pay_rate\n",
    "            print('Gross pay for employee ', i + 1, ' with ', hours[i] - 30, ' hours of overtime: $', \\\n",
    "                format(gross_pay, ',.2f'), sep='')\n",
    "        else:\n",
    "            gross_pay = hours[i] * pay_rate\n",
    "            print('Gross pay for employee ', i + 1, ': $', \\\n",
    "                format(gross_pay, ',.2f'), sep='')\n",
    "\n",
    "# Call the main function.\n",
    "main()"
   ]
  },
  {
   "cell_type": "code",
   "execution_count": null,
   "metadata": {},
   "outputs": [],
   "source": []
  }
 ],
 "metadata": {
  "kernelspec": {
   "display_name": "Python 3",
   "name": "python3"
  },
  "language_info": {
   "codemirror_mode": {
    "name": "ipython",
    "version": 3
   },
   "file_extension": ".py",
   "mimetype": "text/x-python",
   "name": "python",
   "nbconvert_exporter": "python",
   "pygments_lexer": "ipython3",
   "version": "3.9.1-final"
  },
  "orig_nbformat": 2
 },
 "nbformat": 4,
 "nbformat_minor": 2
}
