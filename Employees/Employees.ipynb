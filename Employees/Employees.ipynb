{
 "cells": [
  {
   "cell_type": "code",
   "execution_count": 45,
   "metadata": {
    "tags": []
   },
   "outputs": [
    {
     "output_type": "stream",
     "name": "stdout",
     "text": [
      "Name: Ingrid Virgo\nID: 4587\nDept: Engineering\n\nName: Julia Rich\nID: 4588\nDept: Research\n\nName: Greg Young\nID: 4589\nDept: Marketing\n\n"
     ]
    }
   ],
   "source": [
    "#\n",
    "# Name: dog-tor\n",
    "# \n",
    "# PART A\n",
    "# This program displays the records that are\n",
    "# in the employees.txt file\n",
    "\n",
    "#Part A\n",
    "def main():\n",
    "    # Open the employees.txt file.\n",
    "    emp_file = open('employees.txt', 'r')\n",
    "\n",
    "    # Read the first line from the file, which is\n",
    "    # the name field of the first record.\n",
    "    name = emp_file.readline()\n",
    "\n",
    "    # If a field was read, continue processing.\n",
    "    while name != '':\n",
    "        # Read the ID number field.\n",
    "        id_num = emp_file.readline()\n",
    "\n",
    "        # Read the department field.\n",
    "        dept = emp_file.readline()\n",
    "\n",
    "        # Strip the newlines from the fields.\n",
    "        name = name.rstrip()\n",
    "        id_num = id_num.rstrip()\n",
    "        dept = dept.rstrip()\n",
    "\n",
    "        # Display the record.\n",
    "        print('Name:', name)\n",
    "        print('ID:', id_num)\n",
    "        print('Dept:', dept)\n",
    "        print()\n",
    "       \n",
    "        # Read the name field of the next record.\n",
    "        name = emp_file.readline()\n",
    "\n",
    "    # Close the file.\n",
    "    emp_file.close()\n",
    "\n",
    "# Call the main function.\n",
    "main()\n"
   ]
  },
  {
   "cell_type": "code",
   "execution_count": 52,
   "metadata": {},
   "outputs": [
    {
     "output_type": "stream",
     "name": "stdout",
     "text": [
      "That employee was not found in the file.\n"
     ]
    }
   ],
   "source": [
    "# PART B\n",
    "# This program allows the user to search the\n",
    "# employees.txt file for records matching a\n",
    "# employee name.\n",
    "\n",
    "def main():\n",
    "    # Create a bool variable to use as a flag.\n",
    "    found = False\n",
    "\n",
    "    # Get the search value.\n",
    "    search = input('Enter an employee name to search for: ')\n",
    "\n",
    "    # Open the employee name file.\n",
    "    employee_file = open('employees.txt', 'r')\n",
    "\n",
    "    # Read the first record's name field.\n",
    "    name = employee_file.readline()\n",
    "    \n",
    "    # Strip the \\n from the name.\n",
    "    name = name.rstrip()\n",
    "\n",
    "    # Read the rest of the file.\n",
    "    while name != '':\n",
    "        # Read the ID field.\n",
    "        ID = employee_file.readline()\n",
    "\n",
    "        # Strip the \\n from the ID.\n",
    "        ID = ID.rstrip()\n",
    "        \n",
    "        # Read the dept field.\n",
    "        dept = employee_file.readline()\n",
    "\n",
    "        # Strip the \\n from the dept.\n",
    "        dept = dept.rstrip()\n",
    "\n",
    "        # Determine whether this record matches\n",
    "        # the search value.\n",
    "        if search == (name):\n",
    "            # Display the record.\n",
    "            print('name:', name)\n",
    "            print('ID:', ID)\n",
    "            print('Dept:', dept)\n",
    "            print()\n",
    "            # Set the found flag to True.\n",
    "            found = True\n",
    "        \n",
    "        # Read the next employee name.\n",
    "        name = employee_file.readline()\n",
    "        \n",
    "        # Strip the \\n from the name.\n",
    "        name = name.rstrip()\n",
    "\n",
    "    # Close the file.\n",
    "    employee_file.close()\n",
    "\n",
    "    # If the search value was not found in the file\n",
    "    # display a message.\n",
    "    if found == False:\n",
    "        print('That employee was not found in the file.')\n",
    "\n",
    "# Call the main function.\n",
    "main()"
   ]
  },
  {
   "cell_type": "code",
   "execution_count": null,
   "metadata": {},
   "outputs": [],
   "source": []
  }
 ],
 "metadata": {
  "kernelspec": {
   "display_name": "Python 3",
   "language": "python",
   "name": "python3"
  },
  "language_info": {
   "codemirror_mode": {
    "name": "ipython",
    "version": 3
   },
   "file_extension": ".py",
   "mimetype": "text/x-python",
   "name": "python",
   "nbconvert_exporter": "python",
   "pygments_lexer": "ipython3",
   "version": "3.9.1-final"
  }
 },
 "nbformat": 4,
 "nbformat_minor": 2
}